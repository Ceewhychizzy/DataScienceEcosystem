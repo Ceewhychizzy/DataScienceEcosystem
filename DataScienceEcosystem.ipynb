{
 "cells": [
  {
   "cell_type": "markdown",
   "id": "a7a18147",
   "metadata": {},
   "source": [
    "# Data Science Notebook"
   ]
  },
  {
   "cell_type": "markdown",
   "id": "0f76b45a",
   "metadata": {},
   "source": [
    "## Introduction\n",
    "This notebook contains various exercises and examples related to data science. It covers data science languages, libraries, tools, and some basic arithmetic operations."
   ]
  },
  {
   "cell_type": "markdown",
   "id": "3572fc17",
   "metadata": {},
   "source": [
    "**Objectives:**\n",
    "\n",
    "- List popular languages for Data Science\n",
    "- Understand various data science libraries\n",
    "- Get acquainted with popular data science tools\n",
    "- Perform basic arithmetic operations in Python\n",
    "- Convert time units using Python code\n"
   ]
  },
  {
   "cell_type": "markdown",
   "id": "43873a34",
   "metadata": {},
   "source": [
    "## Data Science Languages\n",
    "- Python\n",
    "- R\n",
    "- SQL\n",
    "- Julia\n",
    "- Scala\n"
   ]
  },
  {
   "cell_type": "markdown",
   "id": "e459e97d",
   "metadata": {},
   "source": [
    "## Data Science Libraries\n",
    "Some of the commonly used libraries used by data scientists include:\n",
    "- NumPy\n",
    "- Pandas\n",
    "- Matplotlib\n",
    "- Scikit-learn\n",
    "- TensorFlow\n",
    "- Keras\n",
    "- PyTorch\n",
    "- ggplot2\n"
   ]
  },
  {
   "cell_type": "markdown",
   "id": "179230ea",
   "metadata": {},
   "source": [
    "## Data Science Tools\n",
    "\n",
    "| Tool            | Description                                        |\n",
    "|-----------------|----------------------------------------------------|\n",
    "| Jupyter Notebook| Interactive computing environment                  |\n",
    "| RStudio         | Integrated development environment for R           |\n",
    "| GitHub          | Version control and collaboration platform         |\n",
    "| Apache Spark    | Unified analytics engine for big data processing   |\n",
    "| Tableau         | Data visualization and business intelligence tool  |\n"
   ]
  },
  {
   "cell_type": "markdown",
   "id": "127d529a",
   "metadata": {},
   "source": [
    "### Below are a few examples of evaluating arithmetic expressions in Python.\n"
   ]
  },
  {
   "cell_type": "code",
   "execution_count": 6,
   "id": "25f76e2d",
   "metadata": {},
   "outputs": [
    {
     "data": {
      "text/plain": [
       "17"
      ]
     },
     "execution_count": 6,
     "metadata": {},
     "output_type": "execute_result"
    }
   ],
   "source": [
    "# This is a simple arithmetic expression to multiply then add integers.\n",
    "(3 * 4) + 5\n"
   ]
  },
  {
   "cell_type": "code",
   "execution_count": 7,
   "id": "60e74efe",
   "metadata": {},
   "outputs": [
    {
     "data": {
      "text/plain": [
       "3.3333333333333335"
      ]
     },
     "execution_count": 7,
     "metadata": {},
     "output_type": "execute_result"
    }
   ],
   "source": [
    "# This will convert 200 minutes to hours by dividing by 60.\n",
    "200 / 60\n"
   ]
  },
  {
   "cell_type": "markdown",
   "id": "d457a3c9",
   "metadata": {},
   "source": [
    "## Author\n",
    "Lakshmi Holla\n",
    "and Niveditha Pandith"
   ]
  }
 ],
 "metadata": {
  "kernelspec": {
   "display_name": "Python 3 (ipykernel)",
   "language": "python",
   "name": "python3"
  },
  "language_info": {
   "codemirror_mode": {
    "name": "ipython",
    "version": 3
   },
   "file_extension": ".py",
   "mimetype": "text/x-python",
   "name": "python",
   "nbconvert_exporter": "python",
   "pygments_lexer": "ipython3",
   "version": "3.11.5"
  }
 },
 "nbformat": 4,
 "nbformat_minor": 5
}
